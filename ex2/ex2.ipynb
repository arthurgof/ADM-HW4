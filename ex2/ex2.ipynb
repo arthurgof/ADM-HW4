{
 "cells": [
  {
   "cell_type": "markdown",
   "metadata": {},
   "source": [
    "## Getting your data!"
   ]
  },
  {
   "cell_type": "markdown",
   "metadata": {},
   "source": []
  },
  {
   "cell_type": "code",
   "execution_count": 1,
   "metadata": {},
   "outputs": [
    {
     "name": "stdout",
     "output_type": "stream",
     "text": [
      "yes\n"
     ]
    }
   ],
   "source": [
    "import os\n",
    "import fun\n",
    "import pandas as pd\n",
    "import warnings\n",
    "warnings.filterwarnings('ignore')\n",
    "\n",
    "dir = '../data/csv/'\n",
    "files = os.listdir(dir)\n",
    "if (len(files) < 3) :\n",
    "    fun.downloadcsv()\n",
    "df1 = pd.read_csv(dir+files[0], header='infer',error_bad_lines=False, warn_bad_lines=False)\n",
    "df2 = pd.read_csv(dir+files[1], header='infer',error_bad_lines=False, warn_bad_lines=False)\n",
    "df3 = pd.read_csv(dir+files[2], header='infer',error_bad_lines=False, warn_bad_lines=False)\n",
    "print('yes')"
   ]
  },
  {
   "cell_type": "code",
   "execution_count": 6,
   "metadata": {},
   "outputs": [
    {
     "name": "stdout",
     "output_type": "stream",
     "text": [
      "<class 'pandas.core.frame.DataFrame'>\n",
      "MultiIndex: 805823 entries, ('2', '0', '2008-11-26 01:44:45', '2009-01-05 00:00:00', nan, '4', '1', '<p></p>') to ('https://www.facebook.com/forgetthewhale  \"', '\"[\\'forget the whale\\'', \" 'witches'\", \" 'rockabilly'\", \" 'rb'\", \" 'rnb'\", \" 'anthem'\", \" 'alternative rock'\")\n",
      "Data columns (total 53 columns):\n",
      " #   Column                    Non-Null Count   Dtype \n",
      "---  ------                    --------------   ----- \n",
      " 0   track_id                  156307 non-null  object\n",
      " 1   album_comments            117890 non-null  object\n",
      " 2   album_date_created        116398 non-null  object\n",
      " 3   album_date_released       127720 non-null  object\n",
      " 4   album_engineer            116603 non-null  object\n",
      " 5   album_favorites           116771 non-null  object\n",
      " 6   album_id                  101870 non-null  object\n",
      " 7   album_information         85605 non-null   object\n",
      " 8   album_listens             84828 non-null   object\n",
      " 9   album_producer            87632 non-null   object\n",
      " 10  album_tags                90929 non-null   object\n",
      " 11  album_title               92960 non-null   object\n",
      " 12  album_tracks              86219 non-null   object\n",
      " 13  album_type                89994 non-null   object\n",
      " 14  artist_active_year_begin  76308 non-null   object\n",
      " 15  artist_active_year_end    71936 non-null   object\n",
      " 16  artist_associated_labels  70549 non-null   object\n",
      " 17  artist_bio                67611 non-null   object\n",
      " 18  artist_comments           76200 non-null   object\n",
      " 19  artist_date_created       67360 non-null   object\n",
      " 20  artist_favorites          67733 non-null   object\n",
      " 21  artist_id                 64053 non-null   object\n",
      " 22  artist_latitude           53349 non-null   object\n",
      " 23  artist_location           60347 non-null   object\n",
      " 24  artist_longitude          61122 non-null   object\n",
      " 25  artist_members            57502 non-null   object\n",
      " 26  artist_name               56435 non-null   object\n",
      " 27  artist_related_projects   48397 non-null   object\n",
      " 28  artist_tags               50916 non-null   object\n",
      " 29  artist_website            43872 non-null   object\n",
      " 30  artist_wikipedia_page     47055 non-null   object\n",
      " 31  set_split                 46903 non-null   object\n",
      " 32  set_subset                42953 non-null   object\n",
      " 33  track_bit_rate            43529 non-null   object\n",
      " 34  track_comments            42288 non-null   object\n",
      " 35  track_composer            39828 non-null   object\n",
      " 36  track_date_created        36798 non-null   object\n",
      " 37  track_date_recorded       36127 non-null   object\n",
      " 38  track_duration            33683 non-null   object\n",
      " 39  track_favorites           31229 non-null   object\n",
      " 40  track_genre_top           27472 non-null   object\n",
      " 41  track_genres              25520 non-null   object\n",
      " 42  track_genres_all          23334 non-null   object\n",
      " 43  track_information         21533 non-null   object\n",
      " 44  track_interest            22975 non-null   object\n",
      " 45  track_language_code       18805 non-null   object\n",
      " 46  track_license             17726 non-null   object\n",
      " 47  track_listens             14888 non-null   object\n",
      " 48  track_lyricist            11442 non-null   object\n",
      " 49  track_number              10437 non-null   object\n",
      " 50  track_publisher           6520 non-null    object\n",
      " 51  track_tags                5578 non-null    object\n",
      " 52  track_title               2815 non-null    object\n",
      "dtypes: object(53)\n",
      "memory usage: 341.5+ MB\n"
     ]
    }
   ],
   "source": [
    "df3.info()"
   ]
  },
  {
   "cell_type": "code",
   "execution_count": null,
   "metadata": {},
   "outputs": [],
   "source": []
  }
 ],
 "metadata": {
  "interpreter": {
   "hash": "4b8e647a79df62bf31906a725b05de775d285962ac600487339d38c51a5c07b1"
  },
  "kernelspec": {
   "display_name": "Python 3.7.6 64-bit ('base': conda)",
   "language": "python",
   "name": "python3"
  },
  "language_info": {
   "codemirror_mode": {
    "name": "ipython",
    "version": 3
   },
   "file_extension": ".py",
   "mimetype": "text/x-python",
   "name": "python",
   "nbconvert_exporter": "python",
   "pygments_lexer": "ipython3",
   "version": "3.7.6"
  },
  "orig_nbformat": 4
 },
 "nbformat": 4,
 "nbformat_minor": 2
}
