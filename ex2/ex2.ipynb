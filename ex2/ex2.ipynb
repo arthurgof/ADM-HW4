{
 "cells": [
  {
   "cell_type": "markdown",
   "metadata": {},
   "source": [
    "## Getting your data!"
   ]
  },
  {
   "cell_type": "markdown",
   "metadata": {},
   "source": []
  },
  {
   "cell_type": "code",
   "execution_count": 14,
   "metadata": {},
   "outputs": [],
   "source": [
    "import os\n",
    "import fun\n",
    "import pandas as pd\n",
    "import warnings\n",
    "import numpy as np\n",
    "from function import kmean\n",
    "warnings.filterwarnings('ignore')\n",
    "\n",
    "dir = '../data/csv/'\n",
    "files = os.listdir(dir)\n",
    "if (len(files) < 3) :\n",
    "    fun.downloadcsv()\n",
    "files.remove('tr.txt')\n",
    "df1 = pd.read_csv(dir+files[0])\n",
    "df2 = pd.read_csv(dir+files[1])\n",
    "df3 = pd.read_csv(dir+files[2])\n"
   ]
  },
  {
   "cell_type": "code",
   "execution_count": 15,
   "metadata": {},
   "outputs": [
    {
     "name": "stdout",
     "output_type": "stream",
     "text": [
      "(13129, 820) (13129, 250) (106574, 53) (106574, 519)\n"
     ]
    }
   ],
   "source": [
    "dataset = pd.merge(df1, df2, on='track_id', how='inner')\n",
    "dataset = pd.merge(dataset, df3, on='track_id', how='inner')\n",
    "print(dataset.shape, df1.shape, df2.shape, df3.shape)"
   ]
  },
  {
   "cell_type": "markdown",
   "metadata": {},
   "source": [
    "## Q2.2"
   ]
  },
  {
   "cell_type": "code",
   "execution_count": 16,
   "metadata": {},
   "outputs": [],
   "source": [
    "from sklearn import preprocessing\n",
    "\n",
    "le = preprocessing.LabelEncoder()\n",
    "dataset_all = dataset.copy()\n",
    "for col in dataset_all.columns.values:\n",
    "    #columns with non-numeric values\n",
    "    if dataset_all[col].dtype == object :\n",
    "        #replace missing values by 'None'\n",
    "        dataset_all[col].fillna(\"None\", inplace = True)\n",
    "        le = preprocessing.LabelEncoder()\n",
    "        dataset_all[col]= le.fit_transform(dataset_all[col])\n",
    "    elif dataset_all[col].dtype == float :\n",
    "        #replace missing values by 0.\n",
    "        dataset_all[col].fillna(0., inplace = True)\n",
    "    elif dataset_all[col].dtype == int:\n",
    "        #replace missing values by 0\n",
    "        dataset_all[col].fillna(0, inplace = True)\n",
    "\n",
    "dataset_Num = dataset[dataset.T[dataset.dtypes!=np.object].index]"
   ]
  },
  {
   "cell_type": "code",
   "execution_count": 17,
   "metadata": {},
   "outputs": [],
   "source": [
    "def reduc07(dataset):\n",
    "    for n in range(len(dataset)):\n",
    "        pca = PCA(n_components=n)\n",
    "        x = StandardScaler().fit_transform(dataset[dataset.columns.values])\n",
    "        principalComponents = pca.fit_transform(x)\n",
    "        principalDf = pd.DataFrame(data = principalComponents)\n",
    "        if sum(pca.explained_variance_ratio_) < .7:\n",
    "            continue\n",
    "        return principalDf"
   ]
  },
  {
   "cell_type": "code",
   "execution_count": 20,
   "metadata": {},
   "outputs": [
    {
     "name": "stdout",
     "output_type": "stream",
     "text": [
      "13129\n"
     ]
    }
   ],
   "source": [
    "from sklearn.decomposition import PCA\n",
    "from sklearn.preprocessing import StandardScaler\n",
    "from yellowbrick.cluster import KElbowVisualizer\n",
    "from sklearn.cluster import KMeans\n",
    "# find .7 without the discret value\n",
    "principalDf = reduc07(dataset_all[dataset_Num.columns.values[1:]])\n",
    "track_id = dataset_all[\"track_id\"]\n",
    "print(len(principalDf))\n",
    "\n"
   ]
  },
  {
   "cell_type": "code",
   "execution_count": 21,
   "metadata": {},
   "outputs": [],
   "source": [
    "#merge the discret value with the coninuous value\n",
    "\n",
    "dataset_all.drop(dataset_Num.columns.values, axis = 1, inplace = True)\n",
    "x = StandardScaler().fit_transform(dataset_all[dataset_all.columns.values])\n",
    "principalDf = pd.DataFrame(data = x)\n",
    "dataset_all = pd.merge(dataset_all, principalDf, left_index=True, right_index=True)\n",
    "dataset_all[\"track_id\"] = track_id\n"
   ]
  },
  {
   "cell_type": "code",
   "execution_count": 22,
   "metadata": {},
   "outputs": [
    {
     "name": "stderr",
     "output_type": "stream",
     "text": [
      "findfont: Font family ['sans-serif'] not found. Falling back to DejaVu Sans.\n",
      "findfont: Font family ['sans-serif'] not found. Falling back to DejaVu Sans.\n",
      "findfont: Font family ['sans-serif'] not found. Falling back to DejaVu Sans.\n"
     ]
    },
    {
     "data": {
      "image/png": "[encoded data removed]",
      "text/plain": [
       "<Figure size 576x396 with 1 Axes>"
      ]
     },
     "metadata": {},
     "output_type": "display_data"
    },
    {
     "data": {
      "text/plain": [
       "<matplotlib.axes._subplots.AxesSubplot at 0x7fe427e4d5d0>"
      ]
     },
     "execution_count": 22,
     "metadata": {},
     "output_type": "execute_result"
    }
   ],
   "source": [
    "# find the number of cluster\n",
    "model = KMeans()\n",
    "visualizer = KElbowVisualizer(model, k=(2,30), metric='distortion', timings=False)\n",
    "visualizer.fit(dataset_all[dataset_all.columns.values[:-1]])\n",
    "visualizer.show()"
   ]
  },
  {
   "cell_type": "markdown",
   "metadata": {},
   "source": [
    "## Q2.3"
   ]
  },
  {
   "cell_type": "code",
   "execution_count": 23,
   "metadata": {},
   "outputs": [],
   "source": [
    "n = visualizer.elbow_value_\n",
    "\n",
    "cc = kmean(dataset_all[dataset_all.columns.values[:-1]])\n",
    "cc.fit(n)\n",
    "\n",
    "ourmodel = KMeans(n_clusters=n)\n",
    "ourmodel.fit(dataset_all[dataset_all.columns.values[:-1]])\n",
    "cluster = ourmodel.predict(dataset_all[dataset_all.columns.values[:-1]])\n"
   ]
  },
  {
   "cell_type": "markdown",
   "metadata": {},
   "source": [
    "## Q2.4"
   ]
  },
  {
   "cell_type": "code",
   "execution_count": 24,
   "metadata": {},
   "outputs": [
    {
     "data": {
      "text/plain": [
       "58"
      ]
     },
     "execution_count": 24,
     "metadata": {},
     "output_type": "execute_result"
    }
   ],
   "source": [
    "len(dataset[\"track_publisher\"].unique())"
   ]
  },
  {
   "cell_type": "code",
   "execution_count": 25,
   "metadata": {},
   "outputs": [],
   "source": [
    "def table(n_cluster, var, principalDf):\n",
    "    km = kmean(principalDf[principalDf.columns.values[:-1]])\n",
    "    lg = dataset[var].unique()\n",
    "    km.fit(n_cluster)\n",
    "    ass = np.zeros((len(lg),n_cluster))\n",
    "    for i,l in enumerate(lg):\n",
    "        for y in range(n_cluster):\n",
    "            if (l == dataset[dataset[\"track_id\"] == principalDf.loc[y, :][\"track_id\"]][var].values):\n",
    "                ass[i][km.assig[y]] += 1\n",
    "    for i in range(n_cluster):\n",
    "        ass[:,i] /= sum(ass[:,i])\n",
    "        ass[:,i] *= 100\n",
    "    return ass"
   ]
  },
  {
   "cell_type": "code",
   "execution_count": 26,
   "metadata": {},
   "outputs": [
    {
     "data": {
      "text/plain": [
       "array(['Cherry Red Music (UK)'], dtype=object)"
      ]
     },
     "execution_count": 26,
     "metadata": {},
     "output_type": "execute_result"
    }
   ],
   "source": [
    "dataset[dataset[\"track_id\"] == dataset_all.loc[100, :][\"track_id\"]]['track_publisher'].values"
   ]
  },
  {
   "cell_type": "code",
   "execution_count": 28,
   "metadata": {},
   "outputs": [],
   "source": [
    "km = kmean(dataset_all[dataset_all.columns.values[:-1]])\n",
    "lg = dataset['track_publisher'].unique()\n",
    "km.fit(len(lg))\n",
    "for l in lg:\n",
    "    ass = np.zeros(len(lg))\n",
    "    for y in range(len(lg)):\n",
    "        if (l == dataset[dataset[\"track_id\"] == dataset_all.loc[y, :][\"track_id\"]]['track_publisher'].values):\n",
    "            ass[km.assig[y]] += 1\n",
    "    print(l, ass)"
   ]
  }
 ],
 "metadata": {
  "interpreter": {
   "hash": "4b8e647a79df62bf31906a725b05de775d285962ac600487339d38c51a5c07b1"
  },
  "kernelspec": {
   "display_name": "Python 3.7.6 64-bit ('base': conda)",
   "language": "python",
   "name": "python3"
  },
  "language_info": {
   "codemirror_mode": {
    "name": "ipython",
    "version": 3
   },
   "file_extension": ".py",
   "mimetype": "text/x-python",
   "name": "python",
   "nbconvert_exporter": "python",
   "pygments_lexer": "ipython3",
   "version": "3.7.6"
  },
  "orig_nbformat": 4
 },
 "nbformat": 4,
 "nbformat_minor": 2
}
