{
 "cells": [
  {
   "cell_type": "markdown",
   "metadata": {},
   "source": [
    "## Getting your data!"
   ]
  },
  {
   "cell_type": "markdown",
   "metadata": {},
   "source": []
  },
  {
   "cell_type": "code",
   "execution_count": 2,
   "metadata": {},
   "outputs": [],
   "source": [
    "import os\n",
    "import fun\n",
    "import pandas as pd\n",
    "import warnings\n",
    "import numpy as np\n",
    "from function import kmean\n",
    "from sklearn.decomposition import PCA\n",
    "from sklearn.preprocessing import StandardScaler\n",
    "from yellowbrick.cluster import KElbowVisualizer\n",
    "from sklearn.cluster import KMeans\n",
    "\n",
    "warnings.filterwarnings('ignore')\n",
    "\n",
    "dir = '../data/csv/'\n",
    "files = os.listdir(dir)\n",
    "if (len(files) < 3) :\n",
    "    fun.downloadcsv()\n",
    "files.remove('tr.txt')\n",
    "df1 = pd.read_csv(dir+files[0])\n",
    "df2 = pd.read_csv(dir+files[1])\n",
    "df3 = pd.read_csv(dir+files[2])\n"
   ]
  },
  {
   "cell_type": "code",
   "execution_count": 3,
   "metadata": {},
   "outputs": [
    {
     "name": "stdout",
     "output_type": "stream",
     "text": [
      "(13129, 820) (13129, 250) (106574, 53) (106574, 519)\n"
     ]
    }
   ],
   "source": [
    "dataset = pd.merge(df1, df2, on='track_id', how='inner')\n",
    "dataset = pd.merge(dataset, df3, on='track_id', how='inner')\n",
    "print(dataset.shape, df1.shape, df2.shape, df3.shape)"
   ]
  },
  {
   "cell_type": "markdown",
   "metadata": {},
   "source": [
    "## Q2.2"
   ]
  },
  {
   "cell_type": "code",
   "execution_count": 4,
   "metadata": {},
   "outputs": [],
   "source": [
    "from sklearn import preprocessing\n",
    "\n",
    "le = preprocessing.LabelEncoder()\n",
    "dataset_all = dataset.copy()\n",
    "for col in dataset_all.columns.values:\n",
    "    #columns with non-numeric values\n",
    "    if dataset_all[col].dtype == object :\n",
    "        #replace missing values by 'None'\n",
    "        dataset_all[col].fillna(\"None\", inplace = True)\n",
    "        le = preprocessing.LabelEncoder()\n",
    "        dataset_all[col]= le.fit_transform(dataset_all[col])\n",
    "    elif dataset_all[col].dtype == float :\n",
    "        #replace missing values by 0.\n",
    "        dataset_all[col].fillna(0., inplace = True)\n",
    "    elif dataset_all[col].dtype == int:\n",
    "        #replace missing values by 0\n",
    "        dataset_all[col].fillna(0, inplace = True)\n",
    "\n",
    "dataset_Num = dataset[dataset.T[dataset.dtypes!=np.object].index]"
   ]
  },
  {
   "cell_type": "code",
   "execution_count": 5,
   "metadata": {},
   "outputs": [],
   "source": [
    "def reduc07(dataset):\n",
    "    for n in range(len(dataset)):\n",
    "        pca = PCA(n_components=n)\n",
    "        x = StandardScaler().fit_transform(dataset[dataset.columns.values])\n",
    "        principalComponents = pca.fit_transform(x)\n",
    "        principalDf = pd.DataFrame(data = principalComponents)\n",
    "        if sum(pca.explained_variance_ratio_) < .7:\n",
    "            continue\n",
    "        return principalDf"
   ]
  },
  {
   "cell_type": "code",
   "execution_count": 6,
   "metadata": {},
   "outputs": [
    {
     "name": "stdout",
     "output_type": "stream",
     "text": [
      "13129\n"
     ]
    }
   ],
   "source": [
    "# find .7 without the discret value\n",
    "principalDf = reduc07(dataset_all[dataset_Num.columns.values[1:]])\n",
    "track_id = dataset_all[\"track_id\"]\n",
    "print(len(principalDf))\n",
    "\n"
   ]
  },
  {
   "cell_type": "code",
   "execution_count": 7,
   "metadata": {},
   "outputs": [],
   "source": [
    "#merge the discret value with the coninuous value\n",
    "\n",
    "dataset_all.drop(dataset_Num.columns.values, axis = 1, inplace = True)\n",
    "x = StandardScaler().fit_transform(dataset_all[dataset_all.columns.values])\n",
    "principalDf = pd.DataFrame(data = x)\n",
    "dataset_all = pd.merge(dataset_all, principalDf, left_index=True, right_index=True)\n",
    "dataset_all[\"track_id\"] = track_id\n"
   ]
  },
  {
   "cell_type": "code",
   "execution_count": 8,
   "metadata": {},
   "outputs": [
    {
     "name": "stderr",
     "output_type": "stream",
     "text": [
      "findfont: Font family ['sans-serif'] not found. Falling back to DejaVu Sans.\n",
      "findfont: Font family ['sans-serif'] not found. Falling back to DejaVu Sans.\n",
      "findfont: Font family ['sans-serif'] not found. Falling back to DejaVu Sans.\n"
     ]
    },
    {
     "data": {
      "image/png": "[encoded data removed]",
      "text/plain": [
       "<Figure size 576x396 with 1 Axes>"
      ]
     },
     "metadata": {},
     "output_type": "display_data"
    },
    {
     "data": {
      "text/plain": [
       "<matplotlib.axes._subplots.AxesSubplot at 0x7fbb6c2105d0>"
      ]
     },
     "execution_count": 8,
     "metadata": {},
     "output_type": "execute_result"
    }
   ],
   "source": [
    "# find the number of cluster\n",
    "model = KMeans()\n",
    "visualizer = KElbowVisualizer(model, k=(2,30), metric='distortion', timings=False)\n",
    "visualizer.fit(dataset_all[dataset_all.columns.values[:-1]])\n",
    "visualizer.show()"
   ]
  },
  {
   "cell_type": "markdown",
   "metadata": {},
   "source": [
    "## Q2.3"
   ]
  },
  {
   "cell_type": "code",
   "execution_count": 9,
   "metadata": {},
   "outputs": [],
   "source": [
    "n = visualizer.elbow_value_\n",
    "\n",
    "cc = kmean(dataset_all[dataset_all.columns.values[:-1]])\n",
    "cc.fit(n)\n",
    "\n",
    "ourmodel = KMeans(n_clusters=n)\n",
    "ourmodel.fit(dataset_all[dataset_all.columns.values[:-1]])\n",
    "cluster = ourmodel.predict(dataset_all[dataset_all.columns.values[:-1]])\n"
   ]
  },
  {
   "cell_type": "markdown",
   "metadata": {},
   "source": [
    "## Q2.4"
   ]
  },
  {
   "cell_type": "code",
   "execution_count": 35,
   "metadata": {},
   "outputs": [
    {
     "data": {
      "text/plain": [
       "array(['track_id', 'audio_features_acousticness',\n",
       "       'audio_features_danceability', 'audio_features_energy',\n",
       "       'audio_features_instrumentalness', 'audio_features_liveness',\n",
       "       'audio_features_speechiness', 'audio_features_tempo',\n",
       "       'audio_features_valence', 'metadata_album_date',\n",
       "       'metadata_album_name', 'metadata_artist_latitude',\n",
       "       'metadata_artist_location', 'metadata_artist_longitude',\n",
       "       'metadata_artist_name', 'metadata_release',\n",
       "       'ranks_artist_discovery_rank', 'ranks_artist_familiarity_rank',\n",
       "       'ranks_artist_hotttnesss_rank', 'ranks_song_currency_rank',\n",
       "       'ranks_song_hotttnesss_rank', 'social_features_artist_discovery',\n",
       "       'social_features_artist_familiarity',\n",
       "       'social_features_artist_hotttnesss',\n",
       "       'social_features_song_currency', 'social_features_song_hotttnesss',\n",
       "       'temporal_features_000', 'temporal_features_001',\n",
       "       'temporal_features_002', 'temporal_features_003',\n",
       "       'temporal_features_004', 'temporal_features_005',\n",
       "       'temporal_features_006', 'temporal_features_007',\n",
       "       'temporal_features_008', 'temporal_features_009',\n",
       "       'temporal_features_010', 'temporal_features_011',\n",
       "       'temporal_features_012', 'temporal_features_013',\n",
       "       'temporal_features_014', 'temporal_features_015',\n",
       "       'temporal_features_016', 'temporal_features_017',\n",
       "       'temporal_features_018', 'temporal_features_019',\n",
       "       'temporal_features_020', 'temporal_features_021',\n",
       "       'temporal_features_022', 'temporal_features_023',\n",
       "       'temporal_features_024', 'temporal_features_025',\n",
       "       'temporal_features_026', 'temporal_features_027',\n",
       "       'temporal_features_028', 'temporal_features_029',\n",
       "       'temporal_features_030', 'temporal_features_031',\n",
       "       'temporal_features_032', 'temporal_features_033',\n",
       "       'temporal_features_034', 'temporal_features_035',\n",
       "       'temporal_features_036', 'temporal_features_037',\n",
       "       'temporal_features_038', 'temporal_features_039',\n",
       "       'temporal_features_040', 'temporal_features_041',\n",
       "       'temporal_features_042', 'temporal_features_043',\n",
       "       'temporal_features_044', 'temporal_features_045',\n",
       "       'temporal_features_046', 'temporal_features_047',\n",
       "       'temporal_features_048', 'temporal_features_049',\n",
       "       'temporal_features_050', 'temporal_features_051',\n",
       "       'temporal_features_052', 'temporal_features_053',\n",
       "       'temporal_features_054', 'temporal_features_055',\n",
       "       'temporal_features_056', 'temporal_features_057',\n",
       "       'temporal_features_058', 'temporal_features_059',\n",
       "       'temporal_features_060', 'temporal_features_061',\n",
       "       'temporal_features_062', 'temporal_features_063',\n",
       "       'temporal_features_064', 'temporal_features_065',\n",
       "       'temporal_features_066', 'temporal_features_067',\n",
       "       'temporal_features_068', 'temporal_features_069',\n",
       "       'temporal_features_070', 'temporal_features_071',\n",
       "       'temporal_features_072', 'temporal_features_073',\n",
       "       'temporal_features_074', 'temporal_features_075',\n",
       "       'temporal_features_076', 'temporal_features_077',\n",
       "       'temporal_features_078', 'temporal_features_079',\n",
       "       'temporal_features_080', 'temporal_features_081',\n",
       "       'temporal_features_082', 'temporal_features_083',\n",
       "       'temporal_features_084', 'temporal_features_085',\n",
       "       'temporal_features_086', 'temporal_features_087',\n",
       "       'temporal_features_088', 'temporal_features_089',\n",
       "       'temporal_features_090', 'temporal_features_091',\n",
       "       'temporal_features_092', 'temporal_features_093',\n",
       "       'temporal_features_094', 'temporal_features_095',\n",
       "       'temporal_features_096', 'temporal_features_097',\n",
       "       'temporal_features_098', 'temporal_features_099',\n",
       "       'temporal_features_100', 'temporal_features_101',\n",
       "       'temporal_features_102', 'temporal_features_103',\n",
       "       'temporal_features_104', 'temporal_features_105',\n",
       "       'temporal_features_106', 'temporal_features_107',\n",
       "       'temporal_features_108', 'temporal_features_109',\n",
       "       'temporal_features_110', 'temporal_features_111',\n",
       "       'temporal_features_112', 'temporal_features_113',\n",
       "       'temporal_features_114', 'temporal_features_115',\n",
       "       'temporal_features_116', 'temporal_features_117',\n",
       "       'temporal_features_118', 'temporal_features_119',\n",
       "       'temporal_features_120', 'temporal_features_121',\n",
       "       'temporal_features_122', 'temporal_features_123',\n",
       "       'temporal_features_124', 'temporal_features_125',\n",
       "       'temporal_features_126', 'temporal_features_127',\n",
       "       'temporal_features_128', 'temporal_features_129',\n",
       "       'temporal_features_130', 'temporal_features_131',\n",
       "       'temporal_features_132', 'temporal_features_133',\n",
       "       'temporal_features_134', 'temporal_features_135',\n",
       "       'temporal_features_136', 'temporal_features_137',\n",
       "       'temporal_features_138', 'temporal_features_139',\n",
       "       'temporal_features_140', 'temporal_features_141',\n",
       "       'temporal_features_142', 'temporal_features_143',\n",
       "       'temporal_features_144', 'temporal_features_145',\n",
       "       'temporal_features_146', 'temporal_features_147',\n",
       "       'temporal_features_148', 'temporal_features_149',\n",
       "       'temporal_features_150', 'temporal_features_151',\n",
       "       'temporal_features_152', 'temporal_features_153',\n",
       "       'temporal_features_154', 'temporal_features_155',\n",
       "       'temporal_features_156', 'temporal_features_157',\n",
       "       'temporal_features_158', 'temporal_features_159',\n",
       "       'temporal_features_160', 'temporal_features_161',\n",
       "       'temporal_features_162', 'temporal_features_163',\n",
       "       'temporal_features_164', 'temporal_features_165',\n",
       "       'temporal_features_166', 'temporal_features_167',\n",
       "       'temporal_features_168', 'temporal_features_169',\n",
       "       'temporal_features_170', 'temporal_features_171',\n",
       "       'temporal_features_172', 'temporal_features_173',\n",
       "       'temporal_features_174', 'temporal_features_175',\n",
       "       'temporal_features_176', 'temporal_features_177',\n",
       "       'temporal_features_178', 'temporal_features_179',\n",
       "       'temporal_features_180', 'temporal_features_181',\n",
       "       'temporal_features_182', 'temporal_features_183',\n",
       "       'temporal_features_184', 'temporal_features_185',\n",
       "       'temporal_features_186', 'temporal_features_187',\n",
       "       'temporal_features_188', 'temporal_features_189',\n",
       "       'temporal_features_190', 'temporal_features_191',\n",
       "       'temporal_features_192', 'temporal_features_193',\n",
       "       'temporal_features_194', 'temporal_features_195',\n",
       "       'temporal_features_196', 'temporal_features_197',\n",
       "       'temporal_features_198', 'temporal_features_199',\n",
       "       'temporal_features_200', 'temporal_features_201',\n",
       "       'temporal_features_202', 'temporal_features_203',\n",
       "       'temporal_features_204', 'temporal_features_205',\n",
       "       'temporal_features_206', 'temporal_features_207',\n",
       "       'temporal_features_208', 'temporal_features_209',\n",
       "       'temporal_features_210', 'temporal_features_211',\n",
       "       'temporal_features_212', 'temporal_features_213',\n",
       "       'temporal_features_214', 'temporal_features_215',\n",
       "       'temporal_features_216', 'temporal_features_217',\n",
       "       'temporal_features_218', 'temporal_features_219',\n",
       "       'temporal_features_220', 'temporal_features_221',\n",
       "       'temporal_features_222', 'temporal_features_223', 'album_comments',\n",
       "       'album_date_created', 'album_date_released', 'album_engineer',\n",
       "       'album_favorites', 'album_id', 'album_information',\n",
       "       'album_listens', 'album_producer', 'album_tags', 'album_title',\n",
       "       'album_tracks', 'album_type', 'artist_active_year_begin',\n",
       "       'artist_active_year_end', 'artist_associated_labels', 'artist_bio',\n",
       "       'artist_comments', 'artist_date_created', 'artist_favorites',\n",
       "       'artist_id', 'artist_latitude', 'artist_location',\n",
       "       'artist_longitude', 'artist_members', 'artist_name',\n",
       "       'artist_related_projects', 'artist_tags', 'artist_website',\n",
       "       'artist_wikipedia_page', 'set_split', 'set_subset',\n",
       "       'track_bit_rate', 'track_comments', 'track_composer',\n",
       "       'track_date_created', 'track_date_recorded', 'track_duration',\n",
       "       'track_favorites', 'track_genre_top', 'track_genres',\n",
       "       'track_genres_all', 'track_information', 'track_interest',\n",
       "       'track_language_code', 'track_license', 'track_listens',\n",
       "       'track_lyricist', 'track_number', 'track_publisher', 'track_tags',\n",
       "       'track_title', 'chroma_cens_kurtosis_01',\n",
       "       'chroma_cens_kurtosis_02', 'chroma_cens_kurtosis_03',\n",
       "       'chroma_cens_kurtosis_04', 'chroma_cens_kurtosis_05',\n",
       "       'chroma_cens_kurtosis_06', 'chroma_cens_kurtosis_07',\n",
       "       'chroma_cens_kurtosis_08', 'chroma_cens_kurtosis_09',\n",
       "       'chroma_cens_kurtosis_10', 'chroma_cens_kurtosis_11',\n",
       "       'chroma_cens_kurtosis_12', 'chroma_cens_max_01',\n",
       "       'chroma_cens_max_02', 'chroma_cens_max_03', 'chroma_cens_max_04',\n",
       "       'chroma_cens_max_05', 'chroma_cens_max_06', 'chroma_cens_max_07',\n",
       "       'chroma_cens_max_08', 'chroma_cens_max_09', 'chroma_cens_max_10',\n",
       "       'chroma_cens_max_11', 'chroma_cens_max_12', 'chroma_cens_mean_01',\n",
       "       'chroma_cens_mean_02', 'chroma_cens_mean_03',\n",
       "       'chroma_cens_mean_04', 'chroma_cens_mean_05',\n",
       "       'chroma_cens_mean_06', 'chroma_cens_mean_07',\n",
       "       'chroma_cens_mean_08', 'chroma_cens_mean_09',\n",
       "       'chroma_cens_mean_10', 'chroma_cens_mean_11',\n",
       "       'chroma_cens_mean_12', 'chroma_cens_median_01',\n",
       "       'chroma_cens_median_02', 'chroma_cens_median_03',\n",
       "       'chroma_cens_median_04', 'chroma_cens_median_05',\n",
       "       'chroma_cens_median_06', 'chroma_cens_median_07',\n",
       "       'chroma_cens_median_08', 'chroma_cens_median_09',\n",
       "       'chroma_cens_median_10', 'chroma_cens_median_11',\n",
       "       'chroma_cens_median_12', 'chroma_cens_min_01',\n",
       "       'chroma_cens_min_02', 'chroma_cens_min_03', 'chroma_cens_min_04',\n",
       "       'chroma_cens_min_05', 'chroma_cens_min_06', 'chroma_cens_min_07',\n",
       "       'chroma_cens_min_08', 'chroma_cens_min_09', 'chroma_cens_min_10',\n",
       "       'chroma_cens_min_11', 'chroma_cens_min_12', 'chroma_cens_skew_01',\n",
       "       'chroma_cens_skew_02', 'chroma_cens_skew_03',\n",
       "       'chroma_cens_skew_04', 'chroma_cens_skew_05',\n",
       "       'chroma_cens_skew_06', 'chroma_cens_skew_07',\n",
       "       'chroma_cens_skew_08', 'chroma_cens_skew_09',\n",
       "       'chroma_cens_skew_10', 'chroma_cens_skew_11',\n",
       "       'chroma_cens_skew_12', 'chroma_cens_std_01', 'chroma_cens_std_02',\n",
       "       'chroma_cens_std_03', 'chroma_cens_std_04', 'chroma_cens_std_05',\n",
       "       'chroma_cens_std_06', 'chroma_cens_std_07', 'chroma_cens_std_08',\n",
       "       'chroma_cens_std_09', 'chroma_cens_std_10', 'chroma_cens_std_11',\n",
       "       'chroma_cens_std_12', 'chroma_cqt_kurtosis_01',\n",
       "       'chroma_cqt_kurtosis_02', 'chroma_cqt_kurtosis_03',\n",
       "       'chroma_cqt_kurtosis_04', 'chroma_cqt_kurtosis_05',\n",
       "       'chroma_cqt_kurtosis_06', 'chroma_cqt_kurtosis_07',\n",
       "       'chroma_cqt_kurtosis_08', 'chroma_cqt_kurtosis_09',\n",
       "       'chroma_cqt_kurtosis_10', 'chroma_cqt_kurtosis_11',\n",
       "       'chroma_cqt_kurtosis_12', 'chroma_cqt_max_01', 'chroma_cqt_max_02',\n",
       "       'chroma_cqt_max_03', 'chroma_cqt_max_04', 'chroma_cqt_max_05',\n",
       "       'chroma_cqt_max_06', 'chroma_cqt_max_07', 'chroma_cqt_max_08',\n",
       "       'chroma_cqt_max_09', 'chroma_cqt_max_10', 'chroma_cqt_max_11',\n",
       "       'chroma_cqt_max_12', 'chroma_cqt_mean_01', 'chroma_cqt_mean_02',\n",
       "       'chroma_cqt_mean_03', 'chroma_cqt_mean_04', 'chroma_cqt_mean_05',\n",
       "       'chroma_cqt_mean_06', 'chroma_cqt_mean_07', 'chroma_cqt_mean_08',\n",
       "       'chroma_cqt_mean_09', 'chroma_cqt_mean_10', 'chroma_cqt_mean_11',\n",
       "       'chroma_cqt_mean_12', 'chroma_cqt_median_01',\n",
       "       'chroma_cqt_median_02', 'chroma_cqt_median_03',\n",
       "       'chroma_cqt_median_04', 'chroma_cqt_median_05',\n",
       "       'chroma_cqt_median_06', 'chroma_cqt_median_07',\n",
       "       'chroma_cqt_median_08', 'chroma_cqt_median_09',\n",
       "       'chroma_cqt_median_10', 'chroma_cqt_median_11',\n",
       "       'chroma_cqt_median_12', 'chroma_cqt_min_01', 'chroma_cqt_min_02',\n",
       "       'chroma_cqt_min_03', 'chroma_cqt_min_04', 'chroma_cqt_min_05',\n",
       "       'chroma_cqt_min_06', 'chroma_cqt_min_07', 'chroma_cqt_min_08',\n",
       "       'chroma_cqt_min_09', 'chroma_cqt_min_10', 'chroma_cqt_min_11',\n",
       "       'chroma_cqt_min_12', 'chroma_cqt_skew_01', 'chroma_cqt_skew_02',\n",
       "       'chroma_cqt_skew_03', 'chroma_cqt_skew_04', 'chroma_cqt_skew_05',\n",
       "       'chroma_cqt_skew_06', 'chroma_cqt_skew_07', 'chroma_cqt_skew_08',\n",
       "       'chroma_cqt_skew_09', 'chroma_cqt_skew_10', 'chroma_cqt_skew_11',\n",
       "       'chroma_cqt_skew_12', 'chroma_cqt_std_01', 'chroma_cqt_std_02',\n",
       "       'chroma_cqt_std_03', 'chroma_cqt_std_04', 'chroma_cqt_std_05',\n",
       "       'chroma_cqt_std_06', 'chroma_cqt_std_07', 'chroma_cqt_std_08',\n",
       "       'chroma_cqt_std_09', 'chroma_cqt_std_10', 'chroma_cqt_std_11',\n",
       "       'chroma_cqt_std_12', 'chroma_stft_kurtosis_01',\n",
       "       'chroma_stft_kurtosis_02', 'chroma_stft_kurtosis_03',\n",
       "       'chroma_stft_kurtosis_04', 'chroma_stft_kurtosis_05',\n",
       "       'chroma_stft_kurtosis_06', 'chroma_stft_kurtosis_07',\n",
       "       'chroma_stft_kurtosis_08', 'chroma_stft_kurtosis_09',\n",
       "       'chroma_stft_kurtosis_10', 'chroma_stft_kurtosis_11',\n",
       "       'chroma_stft_kurtosis_12', 'chroma_stft_max_01',\n",
       "       'chroma_stft_max_02', 'chroma_stft_max_03', 'chroma_stft_max_04',\n",
       "       'chroma_stft_max_05', 'chroma_stft_max_06', 'chroma_stft_max_07',\n",
       "       'chroma_stft_max_08', 'chroma_stft_max_09', 'chroma_stft_max_10',\n",
       "       'chroma_stft_max_11', 'chroma_stft_max_12', 'chroma_stft_mean_01',\n",
       "       'chroma_stft_mean_02', 'chroma_stft_mean_03',\n",
       "       'chroma_stft_mean_04', 'chroma_stft_mean_05',\n",
       "       'chroma_stft_mean_06', 'chroma_stft_mean_07',\n",
       "       'chroma_stft_mean_08', 'chroma_stft_mean_09',\n",
       "       'chroma_stft_mean_10', 'chroma_stft_mean_11',\n",
       "       'chroma_stft_mean_12', 'chroma_stft_median_01',\n",
       "       'chroma_stft_median_02', 'chroma_stft_median_03',\n",
       "       'chroma_stft_median_04', 'chroma_stft_median_05',\n",
       "       'chroma_stft_median_06', 'chroma_stft_median_07',\n",
       "       'chroma_stft_median_08', 'chroma_stft_median_09',\n",
       "       'chroma_stft_median_10', 'chroma_stft_median_11',\n",
       "       'chroma_stft_median_12', 'chroma_stft_min_01',\n",
       "       'chroma_stft_min_02', 'chroma_stft_min_03', 'chroma_stft_min_04',\n",
       "       'chroma_stft_min_05', 'chroma_stft_min_06', 'chroma_stft_min_07',\n",
       "       'chroma_stft_min_08', 'chroma_stft_min_09', 'chroma_stft_min_10',\n",
       "       'chroma_stft_min_11', 'chroma_stft_min_12', 'chroma_stft_skew_01',\n",
       "       'chroma_stft_skew_02', 'chroma_stft_skew_03',\n",
       "       'chroma_stft_skew_04', 'chroma_stft_skew_05',\n",
       "       'chroma_stft_skew_06', 'chroma_stft_skew_07',\n",
       "       'chroma_stft_skew_08', 'chroma_stft_skew_09',\n",
       "       'chroma_stft_skew_10', 'chroma_stft_skew_11',\n",
       "       'chroma_stft_skew_12', 'chroma_stft_std_01', 'chroma_stft_std_02',\n",
       "       'chroma_stft_std_03', 'chroma_stft_std_04', 'chroma_stft_std_05',\n",
       "       'chroma_stft_std_06', 'chroma_stft_std_07', 'chroma_stft_std_08',\n",
       "       'chroma_stft_std_09', 'chroma_stft_std_10', 'chroma_stft_std_11',\n",
       "       'chroma_stft_std_12', 'mfcc_kurtosis_01', 'mfcc_kurtosis_02',\n",
       "       'mfcc_kurtosis_03', 'mfcc_kurtosis_04', 'mfcc_kurtosis_05',\n",
       "       'mfcc_kurtosis_06', 'mfcc_kurtosis_07', 'mfcc_kurtosis_08',\n",
       "       'mfcc_kurtosis_09', 'mfcc_kurtosis_10', 'mfcc_kurtosis_11',\n",
       "       'mfcc_kurtosis_12', 'mfcc_kurtosis_13', 'mfcc_kurtosis_14',\n",
       "       'mfcc_kurtosis_15', 'mfcc_kurtosis_16', 'mfcc_kurtosis_17',\n",
       "       'mfcc_kurtosis_18', 'mfcc_kurtosis_19', 'mfcc_kurtosis_20',\n",
       "       'mfcc_max_01', 'mfcc_max_02', 'mfcc_max_03', 'mfcc_max_04',\n",
       "       'mfcc_max_05', 'mfcc_max_06', 'mfcc_max_07', 'mfcc_max_08',\n",
       "       'mfcc_max_09', 'mfcc_max_10', 'mfcc_max_11', 'mfcc_max_12',\n",
       "       'mfcc_max_13', 'mfcc_max_14', 'mfcc_max_15', 'mfcc_max_16',\n",
       "       'mfcc_max_17', 'mfcc_max_18', 'mfcc_max_19', 'mfcc_max_20',\n",
       "       'mfcc_mean_01', 'mfcc_mean_02', 'mfcc_mean_03', 'mfcc_mean_04',\n",
       "       'mfcc_mean_05', 'mfcc_mean_06', 'mfcc_mean_07', 'mfcc_mean_08',\n",
       "       'mfcc_mean_09', 'mfcc_mean_10', 'mfcc_mean_11', 'mfcc_mean_12',\n",
       "       'mfcc_mean_13', 'mfcc_mean_14', 'mfcc_mean_15', 'mfcc_mean_16',\n",
       "       'mfcc_mean_17', 'mfcc_mean_18', 'mfcc_mean_19', 'mfcc_mean_20',\n",
       "       'mfcc_median_01', 'mfcc_median_02', 'mfcc_median_03',\n",
       "       'mfcc_median_04', 'mfcc_median_05', 'mfcc_median_06',\n",
       "       'mfcc_median_07', 'mfcc_median_08', 'mfcc_median_09',\n",
       "       'mfcc_median_10', 'mfcc_median_11', 'mfcc_median_12',\n",
       "       'mfcc_median_13', 'mfcc_median_14', 'mfcc_median_15',\n",
       "       'mfcc_median_16', 'mfcc_median_17', 'mfcc_median_18',\n",
       "       'mfcc_median_19', 'mfcc_median_20', 'mfcc_min_01', 'mfcc_min_02',\n",
       "       'mfcc_min_03', 'mfcc_min_04', 'mfcc_min_05', 'mfcc_min_06',\n",
       "       'mfcc_min_07', 'mfcc_min_08', 'mfcc_min_09', 'mfcc_min_10',\n",
       "       'mfcc_min_11', 'mfcc_min_12', 'mfcc_min_13', 'mfcc_min_14',\n",
       "       'mfcc_min_15', 'mfcc_min_16', 'mfcc_min_17', 'mfcc_min_18',\n",
       "       'mfcc_min_19', 'mfcc_min_20', 'mfcc_skew_01', 'mfcc_skew_02',\n",
       "       'mfcc_skew_03', 'mfcc_skew_04', 'mfcc_skew_05', 'mfcc_skew_06',\n",
       "       'mfcc_skew_07', 'mfcc_skew_08', 'mfcc_skew_09', 'mfcc_skew_10',\n",
       "       'mfcc_skew_11', 'mfcc_skew_12', 'mfcc_skew_13', 'mfcc_skew_14',\n",
       "       'mfcc_skew_15', 'mfcc_skew_16', 'mfcc_skew_17', 'mfcc_skew_18',\n",
       "       'mfcc_skew_19', 'mfcc_skew_20', 'mfcc_std_01', 'mfcc_std_02',\n",
       "       'mfcc_std_03', 'mfcc_std_04', 'mfcc_std_05', 'mfcc_std_06',\n",
       "       'mfcc_std_07', 'mfcc_std_08', 'mfcc_std_09', 'mfcc_std_10',\n",
       "       'mfcc_std_11', 'mfcc_std_12', 'mfcc_std_13', 'mfcc_std_14',\n",
       "       'mfcc_std_15', 'mfcc_std_16', 'mfcc_std_17', 'mfcc_std_18',\n",
       "       'mfcc_std_19', 'mfcc_std_20', 'rmse_kurtosis_01', 'rmse_max_01',\n",
       "       'rmse_mean_01', 'rmse_median_01', 'rmse_min_01', 'rmse_skew_01',\n",
       "       'rmse_std_01', 'spectral_bandwidth_kurtosis_01',\n",
       "       'spectral_bandwidth_max_01', 'spectral_bandwidth_mean_01',\n",
       "       'spectral_bandwidth_median_01', 'spectral_bandwidth_min_01',\n",
       "       'spectral_bandwidth_skew_01', 'spectral_bandwidth_std_01',\n",
       "       'spectral_centroid_kurtosis_01', 'spectral_centroid_max_01',\n",
       "       'spectral_centroid_mean_01', 'spectral_centroid_median_01',\n",
       "       'spectral_centroid_min_01', 'spectral_centroid_skew_01',\n",
       "       'spectral_centroid_std_01', 'spectral_contrast_kurtosis_01',\n",
       "       'spectral_contrast_kurtosis_02', 'spectral_contrast_kurtosis_03',\n",
       "       'spectral_contrast_kurtosis_04', 'spectral_contrast_kurtosis_05',\n",
       "       'spectral_contrast_kurtosis_06', 'spectral_contrast_kurtosis_07',\n",
       "       'spectral_contrast_max_01', 'spectral_contrast_max_02',\n",
       "       'spectral_contrast_max_03', 'spectral_contrast_max_04',\n",
       "       'spectral_contrast_max_05', 'spectral_contrast_max_06',\n",
       "       'spectral_contrast_max_07', 'spectral_contrast_mean_01',\n",
       "       'spectral_contrast_mean_02', 'spectral_contrast_mean_03',\n",
       "       'spectral_contrast_mean_04', 'spectral_contrast_mean_05',\n",
       "       'spectral_contrast_mean_06', 'spectral_contrast_mean_07',\n",
       "       'spectral_contrast_median_01', 'spectral_contrast_median_02',\n",
       "       'spectral_contrast_median_03', 'spectral_contrast_median_04',\n",
       "       'spectral_contrast_median_05', 'spectral_contrast_median_06',\n",
       "       'spectral_contrast_median_07', 'spectral_contrast_min_01',\n",
       "       'spectral_contrast_min_02', 'spectral_contrast_min_03',\n",
       "       'spectral_contrast_min_04', 'spectral_contrast_min_05',\n",
       "       'spectral_contrast_min_06', 'spectral_contrast_min_07',\n",
       "       'spectral_contrast_skew_01', 'spectral_contrast_skew_02',\n",
       "       'spectral_contrast_skew_03', 'spectral_contrast_skew_04',\n",
       "       'spectral_contrast_skew_05', 'spectral_contrast_skew_06',\n",
       "       'spectral_contrast_skew_07', 'spectral_contrast_std_01',\n",
       "       'spectral_contrast_std_02', 'spectral_contrast_std_03',\n",
       "       'spectral_contrast_std_04', 'spectral_contrast_std_05',\n",
       "       'spectral_contrast_std_06', 'spectral_contrast_std_07',\n",
       "       'spectral_rolloff_kurtosis_01', 'spectral_rolloff_max_01',\n",
       "       'spectral_rolloff_mean_01', 'spectral_rolloff_median_01',\n",
       "       'spectral_rolloff_min_01', 'spectral_rolloff_skew_01',\n",
       "       'spectral_rolloff_std_01', 'tonnetz_kurtosis_01',\n",
       "       'tonnetz_kurtosis_02', 'tonnetz_kurtosis_03',\n",
       "       'tonnetz_kurtosis_04', 'tonnetz_kurtosis_05',\n",
       "       'tonnetz_kurtosis_06', 'tonnetz_max_01', 'tonnetz_max_02',\n",
       "       'tonnetz_max_03', 'tonnetz_max_04', 'tonnetz_max_05',\n",
       "       'tonnetz_max_06', 'tonnetz_mean_01', 'tonnetz_mean_02',\n",
       "       'tonnetz_mean_03', 'tonnetz_mean_04', 'tonnetz_mean_05',\n",
       "       'tonnetz_mean_06', 'tonnetz_median_01', 'tonnetz_median_02',\n",
       "       'tonnetz_median_03', 'tonnetz_median_04', 'tonnetz_median_05',\n",
       "       'tonnetz_median_06', 'tonnetz_min_01', 'tonnetz_min_02',\n",
       "       'tonnetz_min_03', 'tonnetz_min_04', 'tonnetz_min_05',\n",
       "       'tonnetz_min_06', 'tonnetz_skew_01', 'tonnetz_skew_02',\n",
       "       'tonnetz_skew_03', 'tonnetz_skew_04', 'tonnetz_skew_05',\n",
       "       'tonnetz_skew_06', 'tonnetz_std_01', 'tonnetz_std_02',\n",
       "       'tonnetz_std_03', 'tonnetz_std_04', 'tonnetz_std_05',\n",
       "       'tonnetz_std_06', 'zcr_kurtosis_01', 'zcr_max_01', 'zcr_mean_01',\n",
       "       'zcr_median_01', 'zcr_min_01', 'zcr_skew_01', 'zcr_std_01'],\n",
       "      dtype=object)"
      ]
     },
     "execution_count": 35,
     "metadata": {},
     "output_type": "execute_result"
    }
   ],
   "source": [
    "len(dataset[\"track_publisher\"].unique())\n",
    "dataset.columns.values"
   ]
  },
  {
   "cell_type": "code",
   "execution_count": 39,
   "metadata": {},
   "outputs": [],
   "source": [
    "def table(n_cluster, var, principalDf):\n",
    "    km = kmean(principalDf[principalDf.columns.values[:-1]])\n",
    "    lg = dataset[var].unique()\n",
    "    km.fit(n_cluster)\n",
    "    ass = np.zeros((len(lg),n_cluster))\n",
    "    for i,l in enumerate(lg):\n",
    "        for y in range(n_cluster):\n",
    "            if (l == dataset[dataset[\"track_id\"] == principalDf.loc[y, :][\"track_id\"]][var].values):\n",
    "                ass[i][km.assig[y]] += 1\n",
    "    '''for i in range(n_cluster):\n",
    "        ass[:,i] /= sum(ass[:,i])\n",
    "        ass[:,i] *= 100'''\n",
    "    return ass"
   ]
  },
  {
   "cell_type": "code",
   "execution_count": 14,
   "metadata": {},
   "outputs": [
    {
     "data": {
      "text/plain": [
       "array([nan], dtype=object)"
      ]
     },
     "execution_count": 14,
     "metadata": {},
     "output_type": "execute_result"
    }
   ],
   "source": [
    "km = kmean(dataset_all[dataset_all.columns.values[:-1]])\n",
    "\n",
    "km.fit(len(lg))"
   ]
  },
  {
   "cell_type": "code",
   "execution_count": 32,
   "metadata": {},
   "outputs": [
    {
     "name": "stdout",
     "output_type": "stream",
     "text": [
      "False nan nan\n"
     ]
    }
   ],
   "source": [
    "lg = dataset['track_publisher'].unique()\n",
    "v = lg[0]==dataset[dataset[\"track_id\"] == dataset_all.loc[57, :][\"track_id\"]]['track_publisher'].values[0]"
   ]
  },
  {
   "cell_type": "code",
   "execution_count": 40,
   "metadata": {},
   "outputs": [
    {
     "name": "stdout",
     "output_type": "stream",
     "text": [
      "[[0. 0. 0. ... 0. 0. 0.]\n",
      " [0. 0. 0. ... 0. 0. 0.]\n",
      " [0. 0. 0. ... 0. 0. 0.]\n",
      " ...\n",
      " [0. 0. 0. ... 0. 0. 0.]\n",
      " [0. 0. 0. ... 0. 0. 0.]\n",
      " [0. 0. 0. ... 0. 0. 0.]]\n"
     ]
    }
   ],
   "source": [
    "va = table(len(lg), 'track_publisher', dataset_all)\n",
    "print(va)"
   ]
  }
 ],
 "metadata": {
  "interpreter": {
   "hash": "4b8e647a79df62bf31906a725b05de775d285962ac600487339d38c51a5c07b1"
  },
  "kernelspec": {
   "display_name": "Python 3.7.6 64-bit ('base': conda)",
   "language": "python",
   "name": "python3"
  },
  "language_info": {
   "codemirror_mode": {
    "name": "ipython",
    "version": 3
   },
   "file_extension": ".py",
   "mimetype": "text/x-python",
   "name": "python",
   "nbconvert_exporter": "python",
   "pygments_lexer": "ipython3",
   "version": "3.7.6"
  },
  "orig_nbformat": 4
 },
 "nbformat": 4,
 "nbformat_minor": 2
}
