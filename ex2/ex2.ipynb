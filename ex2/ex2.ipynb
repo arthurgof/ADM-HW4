{
 "cells": [
  {
   "cell_type": "markdown",
   "metadata": {},
   "source": [
    "## Getting your data!"
   ]
  },
  {
   "cell_type": "markdown",
   "metadata": {},
   "source": []
  },
  {
   "cell_type": "code",
   "execution_count": 1,
   "metadata": {},
   "outputs": [],
   "source": [
    "import os\n",
    "import fun\n",
    "import pandas as pd\n",
    "import warnings\n",
    "import numpy as np\n",
    "from function import kmean\n",
    "warnings.filterwarnings('ignore')\n",
    "\n",
    "dir = '../data/csv/'\n",
    "files = os.listdir(dir)\n",
    "if (len(files) < 3) :\n",
    "    fun.downloadcsv()\n",
    "df1 = pd.read_csv(dir+files[0])\n",
    "df2 = pd.read_csv(dir+files[1])\n",
    "df3 = pd.read_csv(dir+files[2])\n"
   ]
  },
  {
   "cell_type": "code",
   "execution_count": 2,
   "metadata": {},
   "outputs": [
    {
     "name": "stdout",
     "output_type": "stream",
     "text": [
      "(13129, 820) (13129, 250) (106574, 519) (106574, 53)\n"
     ]
    }
   ],
   "source": [
    "dataset = pd.merge(df1, df2, on='track_id', how='inner')\n",
    "dataset = pd.merge(dataset, df3, on='track_id', how='inner')\n",
    "print(dataset.shape, df1.shape, df2.shape, df3.shape)"
   ]
  },
  {
   "cell_type": "markdown",
   "metadata": {},
   "source": [
    "## Q2.2"
   ]
  },
  {
   "cell_type": "code",
   "execution_count": 3,
   "metadata": {},
   "outputs": [
    {
     "data": {
      "text/plain": [
       "(13129, 780)"
      ]
     },
     "execution_count": 3,
     "metadata": {},
     "output_type": "execute_result"
    }
   ],
   "source": [
    "dataset_Num = dataset[dataset.T[dataset.dtypes!=np.object].index]\n",
    "dataset_Numf = dataset_Num.dropna()\n",
    "dataset_Num.drop_duplicates()\n",
    "dataset_Num.shape"
   ]
  },
  {
   "cell_type": "code",
   "execution_count": 4,
   "metadata": {},
   "outputs": [
    {
     "name": "stdout",
     "output_type": "stream",
     "text": [
      "[[5.16999772e-02 5.89315221e-01 8.79136147e-01 ... 8.54438687e-01\n",
      "  3.05548956e-01 6.20910864e-01]\n",
      " [4.02357297e-01 9.17164851e-01 8.50233630e-01 ... 1.46472916e-01\n",
      "  1.01771359e-01 1.36313512e-01]\n",
      " [2.37789293e-04 1.44851538e-01 8.51256912e-01 ... 3.19350739e-01\n",
      "  6.91493187e-01 4.60967284e-01]]\n",
      "[0 0 0 ... 0 0 0]\n"
     ]
    }
   ],
   "source": [
    "cc = kmean(dataset_Num[dataset_Num.columns.values])\n",
    "d = cc.fit(3)\n",
    "print(cc.point)\n",
    "print(d)"
   ]
  },
  {
   "cell_type": "code",
   "execution_count": 5,
   "metadata": {},
   "outputs": [
    {
     "name": "stdout",
     "output_type": "stream",
     "text": [
      "False\n"
     ]
    }
   ],
   "source": [
    "print(2 in d)"
   ]
  }
 ],
 "metadata": {
  "interpreter": {
   "hash": "4b8e647a79df62bf31906a725b05de775d285962ac600487339d38c51a5c07b1"
  },
  "kernelspec": {
   "display_name": "Python 3.7.6 64-bit ('base': conda)",
   "language": "python",
   "name": "python3"
  },
  "language_info": {
   "codemirror_mode": {
    "name": "ipython",
    "version": 3
   },
   "file_extension": ".py",
   "mimetype": "text/x-python",
   "name": "python",
   "nbconvert_exporter": "python",
   "pygments_lexer": "ipython3",
   "version": "3.7.6"
  },
  "orig_nbformat": 4
 },
 "nbformat": 4,
 "nbformat_minor": 2
}
